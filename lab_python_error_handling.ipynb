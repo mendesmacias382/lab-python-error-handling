{
  "cells": [
    {
      "cell_type": "markdown",
      "id": "25d7736c-ba17-4aff-b6bb-66eba20fbf4e",
      "metadata": {
        "id": "25d7736c-ba17-4aff-b6bb-66eba20fbf4e"
      },
      "source": [
        "# Lab | Error Handling"
      ]
    },
    {
      "cell_type": "markdown",
      "id": "bc99b386-7508-47a0-bcdb-d969deaf6c8b",
      "metadata": {
        "id": "bc99b386-7508-47a0-bcdb-d969deaf6c8b"
      },
      "source": [
        "## Exercise: Error Handling for Managing Customer Orders\n",
        "\n",
        "The implementation of your code for managing customer orders assumes that the user will always enter a valid input.\n",
        "\n",
        "For example, we could modify the `initialize_inventory` function to include error handling.\n",
        "   - If the user enters an invalid quantity (e.g., a negative value or a non-numeric value), display an error message and ask them to re-enter the quantity for that product.\n",
        "   - Use a try-except block to handle the error and continue prompting the user until a valid quantity is entered.\n",
        "\n",
        "```python\n",
        "# Step 1: Define the function for initializing the inventory with error handling\n",
        "def initialize_inventory(products):\n",
        "    inventory = {}\n",
        "    for product in products:\n",
        "        valid_quantity = False\n",
        "        while not valid_quantity:\n",
        "            try:\n",
        "                quantity = int(input(f\"Enter the quantity of {product}s available: \"))\n",
        "                if quantity < 0:\n",
        "                    raise ValueError(\"Invalid quantity! Please enter a non-negative value.\")\n",
        "                valid_quantity = True\n",
        "            except ValueError as error:\n",
        "                print(f\"Error: {error}\")\n",
        "        inventory[product] = quantity\n",
        "    return inventory\n",
        "\n",
        "# Or, in another way:\n",
        "\n",
        "def initialize_inventory(products):\n",
        "    inventory = {}\n",
        "    for product in products:\n",
        "        valid_input = False\n",
        "        while not valid_input:\n",
        "            try:\n",
        "                quantity = int(input(f\"Enter the quantity of {product}s available: \"))\n",
        "                if quantity >= 0:\n",
        "                    inventory[product] = quantity\n",
        "                    valid_input = True\n",
        "                else:\n",
        "                    print(\"Quantity cannot be negative. Please enter a valid quantity.\")\n",
        "            except ValueError:\n",
        "                print(\"Invalid input. Please enter a valid quantity.\")\n",
        "    return inventory\n",
        "```\n",
        "\n",
        "Let's enhance your code by implementing error handling to handle invalid inputs.\n",
        "\n",
        "Follow the steps below to complete the exercise:\n",
        "\n",
        "2. Modify the `calculate_total_price` function to include error handling.\n",
        "   - If the user enters an invalid price (e.g., a negative value or a non-numeric value), display an error message and ask them to re-enter the price for that product.\n",
        "   - Use a try-except block to handle the error and continue prompting the user until a valid price is entered.\n",
        "\n",
        "3. Modify the `get_customer_orders` function to include error handling.\n",
        "   - If the user enters an invalid number of orders (e.g., a negative value or a non-numeric value), display an error message and ask them to re-enter the number of orders.\n",
        "   - If the user enters an invalid product name (e.g., a product name that is not in the inventory), or that doesn't have stock available, display an error message and ask them to re-enter the product name. *Hint: you will need to pass inventory as a parameter*\n",
        "   - Use a try-except block to handle the error and continue prompting the user until a valid product name is entered.\n",
        "\n",
        "4. Test your code by running the program and deliberately entering invalid quantities and product names. Make sure the error handling mechanism works as expected.\n"
      ]
    },
    {
      "cell_type": "code",
      "execution_count": 2,
      "id": "srff52NOEo-A",
      "metadata": {
        "colab": {
          "base_uri": "https://localhost:8080/"
        },
        "id": "srff52NOEo-A",
        "outputId": "83a2dc9b-7db8-46f9-ec0a-2de5592fa3bf"
      },
      "outputs": [
        {
          "name": "stdout",
          "output_type": "stream",
          "text": [
            "Write the quantity of t-shirt : 5\n",
            "Write the quantity of mug : 5\n",
            "Write the quantity of book : 5.6\n",
            "Error: invalid literal for int() with base 10: '5.6'\n",
            "Write the quantity of book : 5\n",
            "Write the quantity of hat : 5\n",
            "Write the quantity of keychain : 5\n"
          ]
        },
        {
          "data": {
            "text/plain": [
              "{'t-shirt': 5, 'mug': 5, 'book': 5, 'hat': 5, 'keychain': 5}"
            ]
          },
          "execution_count": 2,
          "metadata": {},
          "output_type": "execute_result"
        }
      ],
      "source": [
        "products = [\"t-shirt\", \"mug\", \"book\", \"hat\", \"keychain\"]\n",
        "\n",
        "def initialize_inventory(products):\n",
        "\n",
        "  inventory = {}\n",
        "\n",
        "  for item in products:\n",
        "    quantity = False\n",
        "\n",
        "    while not quantity:\n",
        "      try:\n",
        "        amount = int(input(f\"Write the quantity of {item} : \"))\n",
        "        if amount < 0:\n",
        "          raise ValueError(\"ERROR - enter the amount of products.\")\n",
        "        quantity = True\n",
        "        if amount == 0:\n",
        "          raise ValueError(\"DONT HAVE STOCK\")\n",
        "\n",
        "      except ValueError as error:\n",
        "        print(f\"Error: {error}\")\n",
        "\n",
        "    inventory[item] = amount\n",
        "\n",
        "  return inventory\n",
        "\n",
        "initialize_inventory(products)"
      ]
    },
    {
      "cell_type": "code",
      "execution_count": null,
      "id": "8fUnX-aiE9TN",
      "metadata": {
        "colab": {
          "base_uri": "https://localhost:8080/",
          "height": 357
        },
        "id": "8fUnX-aiE9TN",
        "outputId": "51ac9010-f189-446d-d1d7-6bdf283eb21e"
      },
      "outputs": [],
      "source": [
        "def get_customer_orders():\n",
        "    customer_orders = set()\n",
        "    intention = \"yes\"\n",
        "\n",
        "    while intention == \"yes\":\n",
        "        products = input(\"Order your product: \")\n",
        "        if products in products:\n",
        "            customer_orders.add(product)\n",
        "            if len(customer_orders) == len(products):\n",
        "                print(\"Added already. Please continue\")\n",
        "                break\n",
        "        else:\n",
        "            print(\"Not available\")\n",
        "        intention = input(\"Continue?\")\n",
        "\n",
        "    print(\"Your order is \", customer_orders)\n",
        "    return customer_orders\n",
        "\n",
        "\n",
        "get_customer_orders()"
      ]
    },
    {
      "cell_type": "code",
      "execution_count": null,
      "id": "5ed8ad6c",
      "metadata": {},
      "outputs": [],
      "source": [
        "def update_inventory(customer_orders, inventory):\n",
        "    updated_inventory = {product: quantity - 1 if product in customers_orders and quantity > 0 else quantity for product, quantity in inventory.items()}\n",
        "    \n",
        "    \n",
        "    return updated_inventory"
      ]
    },
    {
      "cell_type": "code",
      "execution_count": null,
      "id": "9e5d6fc6",
      "metadata": {},
      "outputs": [],
      "source": [
        "def calculate_order_statistics(customers_orders,products):\n",
        "    ordered_products =len(customers_orders)\n",
        "    available_products = len(products)\n",
        "    percentage = ((ordered_products/available_products)*100)\n",
        "    \n",
        "    return (ordered_products,percentage"
      ]
    },
    {
      "cell_type": "code",
      "execution_count": null,
      "id": "610a93e5",
      "metadata": {},
      "outputs": [],
      "source": [
        "def print_order_statistics(order_statistics):\n",
        "    \n",
        "    ordered_products,percentage = order_statistics\n",
        "    return {\"Total products ordered\": ordered_products, \"Percentage of products\":f\"{percentage}%\"}\n"
      ]
    },
    {
      "cell_type": "code",
      "execution_count": null,
      "id": "b498f4e6",
      "metadata": {},
      "outputs": [],
      "source": [
        "## Define a function named print_updated_inventory that takes inventory as a parameter. \n",
        "\n",
        "def print_updated_inventory (inventory):\n",
        "    for product in inventory:\n",
        "        if product not in customers_orders:\n",
        "            print(f\"Updated Inventory: {product}: {inventory[product]}\")\n",
        "# no exemplo, não percebi se deveria print todos os produtos updated ou só alguns, porque o keychain não aparece"
      ]
    },
    {
      "cell_type": "code",
      "execution_count": null,
      "id": "2b5ad486",
      "metadata": {},
      "outputs": [],
      "source": [
        "def calculate_total_price(customers_orders):\n",
        "    total_price = 0 #começa como apenas o valor 0\n",
        "    for product in customers_orders:\n",
        "        valid_price = False #até o preço ser válido\n",
        "        while not valid_price: # temos este loop a ser corrido\n",
        "            try:\n",
        "                price = float(input(f\"Enter the price for {product}:\"))\n",
        "                if price < 0:\n",
        "                    raise ValueError (\"Invalid price! Please enter a non-negative value.\")\n",
        "                valid_price = True #preço válido colocado, logo acaba o loop, daí estar dentro do loop, para ser corrido até ele\n",
        "            except ValueError as error:\n",
        "                    print(f\"Error: {error}\")\n",
        "        \n",
        "        total_price +=price #adicionar o preço ao total\n",
        "        \n",
        "    return total_price"
      ]
    },
    {
      "cell_type": "code",
      "execution_count": null,
      "id": "da6ad26f",
      "metadata": {},
      "outputs": [],
      "source": []
    }
  ],
  "metadata": {
    "colab": {
      "provenance": []
    },
    "kernelspec": {
      "display_name": "Python 3 (ipykernel)",
      "language": "python",
      "name": "python3"
    },
    "language_info": {
      "codemirror_mode": {
        "name": "ipython",
        "version": 3
      },
      "file_extension": ".py",
      "mimetype": "text/x-python",
      "name": "python",
      "nbconvert_exporter": "python",
      "pygments_lexer": "ipython3",
      "version": "3.9.13"
    }
  },
  "nbformat": 4,
  "nbformat_minor": 5
}
